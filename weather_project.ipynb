{
 "cells": [
  {
   "cell_type": "code",
   "execution_count": 1,
   "id": "59bd95cc",
   "metadata": {},
   "outputs": [
    {
     "name": "stdout",
     "output_type": "stream",
     "text": [
      "Requirement already satisfied: requests in c:\\users\\kiit0001\\anaconda3\\lib\\site-packages (2.31.0)\n",
      "Requirement already satisfied: pandas in c:\\users\\kiit0001\\anaconda3\\lib\\site-packages (2.0.3)\n",
      "Requirement already satisfied: matplotlib in c:\\users\\kiit0001\\anaconda3\\lib\\site-packages (3.7.2)\n",
      "Requirement already satisfied: seaborn in c:\\users\\kiit0001\\anaconda3\\lib\\site-packages (0.12.2)\n",
      "Requirement already satisfied: charset-normalizer<4,>=2 in c:\\users\\kiit0001\\anaconda3\\lib\\site-packages (from requests) (2.0.4)\n",
      "Requirement already satisfied: idna<4,>=2.5 in c:\\users\\kiit0001\\anaconda3\\lib\\site-packages (from requests) (3.4)\n",
      "Requirement already satisfied: urllib3<3,>=1.21.1 in c:\\users\\kiit0001\\anaconda3\\lib\\site-packages (from requests) (2.2.3)\n",
      "Requirement already satisfied: certifi>=2017.4.17 in c:\\users\\kiit0001\\anaconda3\\lib\\site-packages (from requests) (2023.7.22)\n",
      "Requirement already satisfied: python-dateutil>=2.8.2 in c:\\users\\kiit0001\\anaconda3\\lib\\site-packages (from pandas) (2.8.2)\n",
      "Requirement already satisfied: pytz>=2020.1 in c:\\users\\kiit0001\\anaconda3\\lib\\site-packages (from pandas) (2023.3.post1)\n",
      "Requirement already satisfied: tzdata>=2022.1 in c:\\users\\kiit0001\\anaconda3\\lib\\site-packages (from pandas) (2023.3)\n",
      "Requirement already satisfied: numpy>=1.21.0 in c:\\users\\kiit0001\\anaconda3\\lib\\site-packages (from pandas) (1.24.3)\n",
      "Requirement already satisfied: contourpy>=1.0.1 in c:\\users\\kiit0001\\anaconda3\\lib\\site-packages (from matplotlib) (1.0.5)\n",
      "Requirement already satisfied: cycler>=0.10 in c:\\users\\kiit0001\\anaconda3\\lib\\site-packages (from matplotlib) (0.11.0)\n",
      "Requirement already satisfied: fonttools>=4.22.0 in c:\\users\\kiit0001\\anaconda3\\lib\\site-packages (from matplotlib) (4.25.0)\n",
      "Requirement already satisfied: kiwisolver>=1.0.1 in c:\\users\\kiit0001\\anaconda3\\lib\\site-packages (from matplotlib) (1.4.4)\n",
      "Requirement already satisfied: packaging>=20.0 in c:\\users\\kiit0001\\anaconda3\\lib\\site-packages (from matplotlib) (23.1)\n",
      "Requirement already satisfied: pillow>=6.2.0 in c:\\users\\kiit0001\\anaconda3\\lib\\site-packages (from matplotlib) (9.4.0)\n",
      "Requirement already satisfied: pyparsing<3.1,>=2.3.1 in c:\\users\\kiit0001\\anaconda3\\lib\\site-packages (from matplotlib) (3.0.9)\n",
      "Requirement already satisfied: six>=1.5 in c:\\users\\kiit0001\\anaconda3\\lib\\site-packages (from python-dateutil>=2.8.2->pandas) (1.16.0)\n"
     ]
    }
   ],
   "source": [
    "!pip install requests pandas matplotlib seaborn\n"
   ]
  },
  {
   "cell_type": "code",
   "execution_count": 2,
   "id": "d3b56bf5",
   "metadata": {},
   "outputs": [],
   "source": [
    "API_KEY = \"1ec30415ee089b956ebc60882826c1e5\"\n"
   ]
  },
  {
   "cell_type": "code",
   "execution_count": 3,
   "id": "7a0799d0",
   "metadata": {},
   "outputs": [],
   "source": [
    "import requests\n",
    "import pandas as pd\n",
    "\n",
    "def get_weather_data(city, api_key):\n",
    "    url = f\"http://api.openweathermap.org/data/2.5/weather?q={city}&appid={api_key}&units=metric\"\n",
    "    response = requests.get(url)\n",
    "    data = response.json()\n",
    "    \n",
    "    weather = {\n",
    "        'City': city,\n",
    "        'Temperature (°C)': data['main']['temp'],\n",
    "        'Humidity (%)': data['main']['humidity'],\n",
    "        'Pressure (hPa)': data['main']['pressure'],\n",
    "        'Weather': data['weather'][0]['main'],\n",
    "        'Wind Speed (m/s)': data['wind']['speed']\n",
    "    }\n",
    "    \n",
    "    return weather\n"
   ]
  },
  {
   "cell_type": "code",
   "execution_count": 4,
   "id": "a0157f55",
   "metadata": {},
   "outputs": [
    {
     "ename": "KeyError",
     "evalue": "'main'",
     "output_type": "error",
     "traceback": [
      "\u001b[1;31m---------------------------------------------------------------------------\u001b[0m",
      "\u001b[1;31mKeyError\u001b[0m                                  Traceback (most recent call last)",
      "Cell \u001b[1;32mIn[4], line 2\u001b[0m\n\u001b[0;32m      1\u001b[0m cities \u001b[38;5;241m=\u001b[39m [\u001b[38;5;124m'\u001b[39m\u001b[38;5;124mLondon\u001b[39m\u001b[38;5;124m'\u001b[39m, \u001b[38;5;124m'\u001b[39m\u001b[38;5;124mNew York\u001b[39m\u001b[38;5;124m'\u001b[39m, \u001b[38;5;124m'\u001b[39m\u001b[38;5;124mTokyo\u001b[39m\u001b[38;5;124m'\u001b[39m, \u001b[38;5;124m'\u001b[39m\u001b[38;5;124mParis\u001b[39m\u001b[38;5;124m'\u001b[39m, \u001b[38;5;124m'\u001b[39m\u001b[38;5;124mMumbai\u001b[39m\u001b[38;5;124m'\u001b[39m, \u001b[38;5;124m'\u001b[39m\u001b[38;5;124mSydney\u001b[39m\u001b[38;5;124m'\u001b[39m]\n\u001b[1;32m----> 2\u001b[0m weather_list \u001b[38;5;241m=\u001b[39m [get_weather_data(city, API_KEY) \u001b[38;5;28;01mfor\u001b[39;00m city \u001b[38;5;129;01min\u001b[39;00m cities]\n\u001b[0;32m      4\u001b[0m df \u001b[38;5;241m=\u001b[39m pd\u001b[38;5;241m.\u001b[39mDataFrame(weather_list)\n\u001b[0;32m      5\u001b[0m df\n",
      "Cell \u001b[1;32mIn[4], line 2\u001b[0m, in \u001b[0;36m<listcomp>\u001b[1;34m(.0)\u001b[0m\n\u001b[0;32m      1\u001b[0m cities \u001b[38;5;241m=\u001b[39m [\u001b[38;5;124m'\u001b[39m\u001b[38;5;124mLondon\u001b[39m\u001b[38;5;124m'\u001b[39m, \u001b[38;5;124m'\u001b[39m\u001b[38;5;124mNew York\u001b[39m\u001b[38;5;124m'\u001b[39m, \u001b[38;5;124m'\u001b[39m\u001b[38;5;124mTokyo\u001b[39m\u001b[38;5;124m'\u001b[39m, \u001b[38;5;124m'\u001b[39m\u001b[38;5;124mParis\u001b[39m\u001b[38;5;124m'\u001b[39m, \u001b[38;5;124m'\u001b[39m\u001b[38;5;124mMumbai\u001b[39m\u001b[38;5;124m'\u001b[39m, \u001b[38;5;124m'\u001b[39m\u001b[38;5;124mSydney\u001b[39m\u001b[38;5;124m'\u001b[39m]\n\u001b[1;32m----> 2\u001b[0m weather_list \u001b[38;5;241m=\u001b[39m [get_weather_data(city, API_KEY) \u001b[38;5;28;01mfor\u001b[39;00m city \u001b[38;5;129;01min\u001b[39;00m cities]\n\u001b[0;32m      4\u001b[0m df \u001b[38;5;241m=\u001b[39m pd\u001b[38;5;241m.\u001b[39mDataFrame(weather_list)\n\u001b[0;32m      5\u001b[0m df\n",
      "Cell \u001b[1;32mIn[3], line 11\u001b[0m, in \u001b[0;36mget_weather_data\u001b[1;34m(city, api_key)\u001b[0m\n\u001b[0;32m      6\u001b[0m response \u001b[38;5;241m=\u001b[39m requests\u001b[38;5;241m.\u001b[39mget(url)\n\u001b[0;32m      7\u001b[0m data \u001b[38;5;241m=\u001b[39m response\u001b[38;5;241m.\u001b[39mjson()\n\u001b[0;32m      9\u001b[0m weather \u001b[38;5;241m=\u001b[39m {\n\u001b[0;32m     10\u001b[0m     \u001b[38;5;124m'\u001b[39m\u001b[38;5;124mCity\u001b[39m\u001b[38;5;124m'\u001b[39m: city,\n\u001b[1;32m---> 11\u001b[0m     \u001b[38;5;124m'\u001b[39m\u001b[38;5;124mTemperature (°C)\u001b[39m\u001b[38;5;124m'\u001b[39m: data[\u001b[38;5;124m'\u001b[39m\u001b[38;5;124mmain\u001b[39m\u001b[38;5;124m'\u001b[39m][\u001b[38;5;124m'\u001b[39m\u001b[38;5;124mtemp\u001b[39m\u001b[38;5;124m'\u001b[39m],\n\u001b[0;32m     12\u001b[0m     \u001b[38;5;124m'\u001b[39m\u001b[38;5;124mHumidity (\u001b[39m\u001b[38;5;124m%\u001b[39m\u001b[38;5;124m)\u001b[39m\u001b[38;5;124m'\u001b[39m: data[\u001b[38;5;124m'\u001b[39m\u001b[38;5;124mmain\u001b[39m\u001b[38;5;124m'\u001b[39m][\u001b[38;5;124m'\u001b[39m\u001b[38;5;124mhumidity\u001b[39m\u001b[38;5;124m'\u001b[39m],\n\u001b[0;32m     13\u001b[0m     \u001b[38;5;124m'\u001b[39m\u001b[38;5;124mPressure (hPa)\u001b[39m\u001b[38;5;124m'\u001b[39m: data[\u001b[38;5;124m'\u001b[39m\u001b[38;5;124mmain\u001b[39m\u001b[38;5;124m'\u001b[39m][\u001b[38;5;124m'\u001b[39m\u001b[38;5;124mpressure\u001b[39m\u001b[38;5;124m'\u001b[39m],\n\u001b[0;32m     14\u001b[0m     \u001b[38;5;124m'\u001b[39m\u001b[38;5;124mWeather\u001b[39m\u001b[38;5;124m'\u001b[39m: data[\u001b[38;5;124m'\u001b[39m\u001b[38;5;124mweather\u001b[39m\u001b[38;5;124m'\u001b[39m][\u001b[38;5;241m0\u001b[39m][\u001b[38;5;124m'\u001b[39m\u001b[38;5;124mmain\u001b[39m\u001b[38;5;124m'\u001b[39m],\n\u001b[0;32m     15\u001b[0m     \u001b[38;5;124m'\u001b[39m\u001b[38;5;124mWind Speed (m/s)\u001b[39m\u001b[38;5;124m'\u001b[39m: data[\u001b[38;5;124m'\u001b[39m\u001b[38;5;124mwind\u001b[39m\u001b[38;5;124m'\u001b[39m][\u001b[38;5;124m'\u001b[39m\u001b[38;5;124mspeed\u001b[39m\u001b[38;5;124m'\u001b[39m]\n\u001b[0;32m     16\u001b[0m }\n\u001b[0;32m     18\u001b[0m \u001b[38;5;28;01mreturn\u001b[39;00m weather\n",
      "\u001b[1;31mKeyError\u001b[0m: 'main'"
     ]
    }
   ],
   "source": [
    "cities = ['London', 'New York', 'Tokyo', 'Paris', 'Mumbai', 'Sydney']\n",
    "weather_list = [get_weather_data(city, API_KEY) for city in cities]\n",
    "\n",
    "df = pd.DataFrame(weather_list)\n",
    "df\n"
   ]
  },
  {
   "cell_type": "code",
   "execution_count": 6,
   "id": "2c2278a7",
   "metadata": {},
   "outputs": [],
   "source": [
    "def get_weather_data(city, api_key):\n",
    "    url = f\"http://api.openweathermap.org/data/2.5/weather?q={city}&appid={api_key}&units=metric\"\n",
    "    response = requests.get(url)\n",
    "    data = response.json()\n",
    "    \n",
    "    # Print the full response to debug\n",
    "    print(f\"API response for {city}:\\n{data}\\n\")\n",
    "\n",
    "    if response.status_code != 200 or 'main' not in data:\n",
    "        return {'City': city, 'Error': data.get('message', 'Unknown error')}\n",
    "    \n",
    "    weather = {\n",
    "        'City': city,\n",
    "        'Temperature (°C)': data['main']['temp'],\n",
    "        'Humidity (%)': data['main']['humidity'],\n",
    "        'Pressure (hPa)': data['main']['pressure'],\n",
    "        'Weather': data['weather'][0]['main'],\n",
    "        'Wind Speed (m/s)': data['wind']['speed']\n",
    "    }\n",
    "    \n",
    "    return weather\n"
   ]
  },
  {
   "cell_type": "code",
   "execution_count": 7,
   "id": "4fb6e4da",
   "metadata": {},
   "outputs": [
    {
     "ename": "NameError",
     "evalue": "name 'df' is not defined",
     "output_type": "error",
     "traceback": [
      "\u001b[1;31m---------------------------------------------------------------------------\u001b[0m",
      "\u001b[1;31mNameError\u001b[0m                                 Traceback (most recent call last)",
      "Cell \u001b[1;32mIn[7], line 1\u001b[0m\n\u001b[1;32m----> 1\u001b[0m df\u001b[38;5;241m.\u001b[39mto_csv(\u001b[38;5;124m\"\u001b[39m\u001b[38;5;124mweather_data.csv\u001b[39m\u001b[38;5;124m\"\u001b[39m, index\u001b[38;5;241m=\u001b[39m\u001b[38;5;28;01mFalse\u001b[39;00m)\n",
      "\u001b[1;31mNameError\u001b[0m: name 'df' is not defined"
     ]
    }
   ],
   "source": [
    "df.to_csv(\"weather_data.csv\", index=False)\n"
   ]
  },
  {
   "cell_type": "code",
   "execution_count": 8,
   "id": "7f801a39",
   "metadata": {},
   "outputs": [
    {
     "name": "stdout",
     "output_type": "stream",
     "text": [
      "❌ Error for London: Invalid API key. Please see https://openweathermap.org/faq#error401 for more info.\n",
      "❌ Error for New York: Invalid API key. Please see https://openweathermap.org/faq#error401 for more info.\n",
      "❌ Error for Tokyo: Invalid API key. Please see https://openweathermap.org/faq#error401 for more info.\n",
      "❌ Error for Paris: Invalid API key. Please see https://openweathermap.org/faq#error401 for more info.\n",
      "❌ Error for Mumbai: Invalid API key. Please see https://openweathermap.org/faq#error401 for more info.\n",
      "❌ Error for Sydney: Invalid API key. Please see https://openweathermap.org/faq#error401 for more info.\n",
      "⚠️ No valid weather data found.\n"
     ]
    }
   ],
   "source": [
    "import requests\n",
    "import pandas as pd\n",
    "import matplotlib.pyplot as plt\n",
    "import seaborn as sns\n",
    "\n",
    "API_KEY = \"1ec30415ee089b956ebc60882826c1e5\"\n",
    "\n",
    "def get_weather_data(city, api_key):\n",
    "    url = f\"http://api.openweathermap.org/data/2.5/weather?q={city}&appid={api_key}&units=metric\"\n",
    "    response = requests.get(url)\n",
    "    data = response.json()\n",
    "    \n",
    "    # Debug print\n",
    "    if 'main' not in data:\n",
    "        print(f\"❌ Error for {city}: {data.get('message', 'Unknown error')}\")\n",
    "        return None\n",
    "    \n",
    "    weather = {\n",
    "        'City': city,\n",
    "        'Temperature (°C)': data['main']['temp'],\n",
    "        'Humidity (%)': data['main']['humidity'],\n",
    "        'Pressure (hPa)': data['main']['pressure'],\n",
    "        'Weather': data['weather'][0]['main'],\n",
    "        'Wind Speed (m/s)': data['wind']['speed']\n",
    "    }\n",
    "    \n",
    "    return weather\n",
    "\n",
    "cities = ['London', 'New York', 'Tokyo', 'Paris', 'Mumbai', 'Sydney']\n",
    "weather_list = []\n",
    "\n",
    "for city in cities:\n",
    "    result = get_weather_data(city, API_KEY)\n",
    "    if result:\n",
    "        weather_list.append(result)\n",
    "\n",
    "# Only create DataFrame if there are results\n",
    "if weather_list:\n",
    "    df = pd.DataFrame(weather_list)\n",
    "    display(df)\n",
    "\n",
    "    # Save to CSV\n",
    "    df.to_csv(\"weather_data.csv\", index=False)\n",
    "    print(\"✅ Weather data saved to weather_data.csv\")\n",
    "\n",
    "    # Plot\n",
    "    plt.figure(figsize=(10, 6))\n",
    "    sns.barplot(data=df, x='City', y='Temperature (°C)', palette='coolwarm')\n",
    "    plt.title('Temperature in Different Cities')\n",
    "    plt.show()\n",
    "else:\n",
    "    print(\"⚠️ No valid weather data found.\")\n"
   ]
  },
  {
   "cell_type": "code",
   "execution_count": 9,
   "id": "b2c9ebdb",
   "metadata": {},
   "outputs": [],
   "source": [
    "API_KEY = \"1ec30415ee089b956ebc60882826c1e5\"\n"
   ]
  },
  {
   "cell_type": "code",
   "execution_count": 10,
   "id": "c9d1f17f",
   "metadata": {},
   "outputs": [
    {
     "name": "stdout",
     "output_type": "stream",
     "text": [
      "200\n",
      "{'coord': {'lon': -0.1257, 'lat': 51.5085}, 'weather': [{'id': 800, 'main': 'Clear', 'description': 'clear sky', 'icon': '01d'}], 'base': 'stations', 'main': {'temp': 14.93, 'feels_like': 14.25, 'temp_min': 13.34, 'temp_max': 16.1, 'pressure': 1021, 'humidity': 68, 'sea_level': 1021, 'grnd_level': 1017}, 'visibility': 10000, 'wind': {'speed': 1.34, 'deg': 62, 'gust': 4.02}, 'clouds': {'all': 0}, 'dt': 1747730653, 'sys': {'type': 2, 'id': 268730, 'country': 'GB', 'sunrise': 1747713700, 'sunset': 1747770761}, 'timezone': 3600, 'id': 2643743, 'name': 'London', 'cod': 200}\n"
     ]
    }
   ],
   "source": [
    "import requests\n",
    "\n",
    "API_KEY = \"1ec30415ee089b956ebc60882826c1e5\"\n",
    "city = \"London\"\n",
    "\n",
    "url = f\"http://api.openweathermap.org/data/2.5/weather?q={city}&appid={API_KEY}&units=metric\"\n",
    "response = requests.get(url)\n",
    "\n",
    "print(response.status_code)\n",
    "print(response.json())\n"
   ]
  },
  {
   "cell_type": "code",
   "execution_count": 11,
   "id": "940bf366",
   "metadata": {},
   "outputs": [
    {
     "name": "stdout",
     "output_type": "stream",
     "text": [
      "       City  Temperature (°C)  Humidity (%)          Weather\n",
      "0    London             14.93            68        clear sky\n",
      "1  New York              9.93            66        clear sky\n",
      "2     Tokyo             28.77            51        clear sky\n",
      "3     Paris             18.75            49        clear sky\n",
      "4    Mumbai             30.90            74  overcast clouds\n",
      "5    Sydney             18.08            69  overcast clouds\n"
     ]
    }
   ],
   "source": [
    "import requests\n",
    "import pandas as pd\n",
    "\n",
    "API_KEY = \"1ec30415ee089b956ebc60882826c1e5\"\n",
    "\n",
    "def get_weather_data(city, api_key):\n",
    "    url = f\"http://api.openweathermap.org/data/2.5/weather?q={city}&appid={api_key}&units=metric\"\n",
    "    response = requests.get(url)\n",
    "    data = response.json()\n",
    "    \n",
    "    return {\n",
    "        'City': city,\n",
    "        'Temperature (°C)': data['main']['temp'],\n",
    "        'Humidity (%)': data['main']['humidity'],\n",
    "        'Weather': data['weather'][0]['description']\n",
    "    }\n",
    "\n",
    "cities = ['London', 'New York', 'Tokyo', 'Paris', 'Mumbai', 'Sydney']\n",
    "weather_data = [get_weather_data(city, API_KEY) for city in cities]\n",
    "\n",
    "df = pd.DataFrame(weather_data)\n",
    "print(df)\n"
   ]
  },
  {
   "cell_type": "code",
   "execution_count": 12,
   "id": "67b5036b",
   "metadata": {},
   "outputs": [
    {
     "name": "stdout",
     "output_type": "stream",
     "text": [
      "       City  Temperature (°C)  Humidity (%)          Weather\n",
      "0    London             14.93            68        clear sky\n",
      "1  New York              9.93            66        clear sky\n",
      "2     Tokyo             28.77            51        clear sky\n",
      "3     Paris             18.75            49        clear sky\n",
      "4    Mumbai             30.90            74  overcast clouds\n",
      "5    Sydney             18.08            69  overcast clouds\n"
     ]
    }
   ],
   "source": [
    "import requests\n",
    "import pandas as pd\n",
    "\n",
    "API_KEY = \"1ec30415ee089b956ebc60882826c1e5\"\n",
    "\n",
    "def get_weather_data(city, api_key):\n",
    "    url = f\"http://api.openweathermap.org/data/2.5/weather?q={city}&appid={api_key}&units=metric\"\n",
    "    response = requests.get(url)\n",
    "    data = response.json()\n",
    "\n",
    "    if response.status_code != 200:\n",
    "        print(f\"Error fetching {city}: {data.get('message', 'Unknown error')}\")\n",
    "        return None\n",
    "    \n",
    "    return {\n",
    "        'City': city,\n",
    "        'Temperature (°C)': data['main']['temp'],\n",
    "        'Humidity (%)': data['main']['humidity'],\n",
    "        'Weather': data['weather'][0]['description']\n",
    "    }\n",
    "\n",
    "cities = ['London', 'New York', 'Tokyo', 'Paris', 'Mumbai', 'Sydney']\n",
    "weather_data = []\n",
    "\n",
    "for city in cities:\n",
    "    data = get_weather_data(city, API_KEY)\n",
    "    if data:\n",
    "        weather_data.append(data)\n",
    "\n",
    "df = pd.DataFrame(weather_data)\n",
    "print(df)\n"
   ]
  },
  {
   "cell_type": "code",
   "execution_count": 13,
   "id": "60f6cf93",
   "metadata": {},
   "outputs": [
    {
     "name": "stdout",
     "output_type": "stream",
     "text": [
      "Weather data saved to weather_data.csv\n"
     ]
    }
   ],
   "source": [
    "df.to_csv('weather_data.csv', index=False)\n",
    "print(\"Weather data saved to weather_data.csv\")\n"
   ]
  },
  {
   "cell_type": "code",
   "execution_count": 14,
   "id": "7f268735",
   "metadata": {},
   "outputs": [
    {
     "data": {
      "image/png": "[encoded data removed]",
      "text/plain": [
       "<Figure size 1000x600 with 1 Axes>"
      ]
     },
     "metadata": {},
     "output_type": "display_data"
    }
   ],
   "source": [
    "import matplotlib.pyplot as plt\n",
    "import seaborn as sns\n",
    "\n",
    "plt.figure(figsize=(10,6))\n",
    "sns.barplot(x='City', y='Temperature (°C)', data=df, palette='coolwarm')\n",
    "plt.title('Temperature in Different Cities')\n",
    "plt.show()\n"
   ]
  },
  {
   "cell_type": "code",
   "execution_count": null,
   "id": "8cca67de",
   "metadata": {},
   "outputs": [],
   "source": []
  }
 ],
 "metadata": {
  "kernelspec": {
   "display_name": "Python 3 (ipykernel)",
   "language": "python",
   "name": "python3"
  },
  "language_info": {
   "codemirror_mode": {
    "name": "ipython",
    "version": 3
   },
   "file_extension": ".py",
   "mimetype": "text/x-python",
   "name": "python",
   "nbconvert_exporter": "python",
   "pygments_lexer": "ipython3",
   "version": "3.11.5"
  }
 },
 "nbformat": 4,
 "nbformat_minor": 5
}
